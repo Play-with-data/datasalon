{
 "cells": [
  {
   "cell_type": "markdown",
   "metadata": {},
   "source": [
    "# 2.2. 웹크롤링 맛보기"
   ]
  },
  {
   "cell_type": "markdown",
   "metadata": {},
   "source": [
    "### 2.2.1 selenium과 크롬드라이버 설치"
   ]
  },
  {
   "cell_type": "code",
   "execution_count": null,
   "metadata": {},
   "outputs": [],
   "source": [
    "# 예제 2-34 selenium 라이브러리 불러오기\n",
    "from selenium import webdriver"
   ]
  },
  {
   "cell_type": "markdown",
   "metadata": {},
   "source": [
    "※ import 에러 날 경우 라이브러리 설치:   `!pip install selenium`"
   ]
  },
  {
   "cell_type": "code",
   "execution_count": null,
   "metadata": {},
   "outputs": [],
   "source": [
    "# 예제 2-35 selenium 설치하기 (미설치 된 경우에 진행)\n",
    "# ! pip install selenium"
   ]
  },
  {
   "cell_type": "code",
   "execution_count": 1,
   "metadata": {},
   "outputs": [
    {
     "name": "stdout",
     "output_type": "stream",
     "text": [
      "https://sites.google.com/chromium.org/driver/\n"
     ]
    }
   ],
   "source": [
    "# 크롬드라이버 다운받기\n",
    "# 크롬 다운로드 사이트 변경에 따른 주소 변경(updated 2022.10.01)\n",
    "print('https://sites.google.com/chromium.org/driver/')"
   ]
  },
  {
   "cell_type": "markdown",
   "metadata": {},
   "source": [
    "### 2.2.2 크롬드라이버 활용하기"
   ]
  },
  {
   "cell_type": "code",
   "execution_count": null,
   "metadata": {},
   "outputs": [],
   "source": [
    "# 예제 2-36 크롬브라우저 실행하기\n",
    "from selenium import webdriver\n",
    "driver = webdriver.Chrome('c:/playwithdata/chromedriver.exe')"
   ]
  },
  {
   "cell_type": "markdown",
   "metadata": {},
   "source": [
    "### 2.2.3 웹 페이지 접속\n"
   ]
  },
  {
   "cell_type": "code",
   "execution_count": null,
   "metadata": {},
   "outputs": [],
   "source": [
    "# 예제 2-37 URL 접속하기\n",
    "url = 'https://www.naver.com/'\n",
    "driver.get(url)"
   ]
  },
  {
   "cell_type": "markdown",
   "metadata": {},
   "source": [
    "### 2.2.4 웹 페이지(HTML) 다운로드"
   ]
  },
  {
   "cell_type": "code",
   "execution_count": null,
   "metadata": {},
   "outputs": [],
   "source": [
    "# 예제 2-38 웹페이지 html 다운로드 하기\n",
    "html = driver.page_source"
   ]
  },
  {
   "cell_type": "markdown",
   "metadata": {},
   "source": [
    "### 2.2.5 HTML 구조 살펴보기\n"
   ]
  },
  {
   "cell_type": "raw",
   "metadata": {},
   "source": [
    "# 예제 2-39 HTML 구조\n",
    "<html>\n",
    "    <head>\n",
    "    </head>\n",
    "    <body>\n",
    "        <h1> 우리동네시장</h1>\n",
    "            <div class = 'sale'>\n",
    "                <p id='fruits1' class='fruits'>\n",
    "                    <span class = 'name'> 바나나 </span>\n",
    "                    <span class = 'price'> 3000원 </span>\n",
    "                    <span class = 'inventory'> 500개 </span>\n",
    "                    <span class = 'store'> 가나다상회 </span>\n",
    "                    <a href = 'http://bit.ly/forPlaywithData' > 홈페이지 </a>\n",
    "                </p>\n",
    "            </div>\n",
    "            <div class = 'prepare'>\n",
    "                <p id='fruits2' class='fruits'>\n",
    "                    <span class ='name'> 파인애플 </span>\n",
    "                </p>\n",
    "            </div>\n",
    "    </body>\n",
    "</html>"
   ]
  },
  {
   "cell_type": "markdown",
   "metadata": {},
   "source": [
    "### 2.2.7 BeautifulSoup을 이용한 정보 찾기\n"
   ]
  },
  {
   "cell_type": "code",
   "execution_count": 3,
   "metadata": {},
   "outputs": [],
   "source": [
    "# 예제 2-40 실습용 HTML\n",
    "html = '''\n",
    "<html>\n",
    "    <head>\n",
    "    </head>\n",
    "    <body>\n",
    "        <h1> 우리동네시장</h1>\n",
    "            <div class = 'sale'>\n",
    "                <p id='fruits1' class='fruits'>\n",
    "                    <span class = 'name'> 바나나 </span>\n",
    "                    <span class = 'price'> 3000원 </span>\n",
    "                    <span class = 'inventory'> 500개 </span>\n",
    "                    <span class = 'store'> 가나다상회 </span>\n",
    "                    <a href = 'http://bit.ly/forPlaywithData' > 홈페이지 </a>\n",
    "                </p>\n",
    "            </div>\n",
    "            <div class = 'prepare'>\n",
    "                <p id='fruits2' class='fruits'>\n",
    "                    <span class ='name'> 파인애플 </span>\n",
    "                </p>\n",
    "            </div>\n",
    "    </body>\n",
    "</html>\n",
    "'''\n"
   ]
  },
  {
   "cell_type": "code",
   "execution_count": 4,
   "metadata": {},
   "outputs": [],
   "source": [
    "# 예제 2-41 HTML 문자열 BeautifulSoup 으로 해석하기\n",
    "from bs4 import BeautifulSoup\n",
    "\n",
    "soup = BeautifulSoup(html, 'html.parser')"
   ]
  },
  {
   "cell_type": "markdown",
   "metadata": {},
   "source": [
    "### 2.2.8 HTML 정보 찾기 ① - 태그 속성 활용\n"
   ]
  },
  {
   "cell_type": "code",
   "execution_count": 5,
   "metadata": {},
   "outputs": [],
   "source": [
    "# 예제 2-42 태그명으로 태그 찾기\n",
    "tags_span = soup.select('span')\n",
    "tags_p = soup.select('p')"
   ]
  },
  {
   "cell_type": "code",
   "execution_count": 6,
   "metadata": {},
   "outputs": [],
   "source": [
    "# 예제 2-43 id와 class로 태그 찾기\n",
    "ids_fruits1 = soup.select('#fruits1')\n",
    "class_price = soup.select('.price')\n",
    "tags_span_class_price = soup.select('span.price')"
   ]
  },
  {
   "cell_type": "markdown",
   "metadata": {},
   "source": [
    "### 2.2.9 HTML 정보 찾기 ② - 상위 구조 활용"
   ]
  },
  {
   "cell_type": "code",
   "execution_count": 8,
   "metadata": {},
   "outputs": [
    {
     "name": "stdout",
     "output_type": "stream",
     "text": [
      "[<span class=\"name\"> 바나나 </span>, <span class=\"name\"> 파인애플 </span>]\n"
     ]
    }
   ],
   "source": [
    "# 예제 2-44 태그 구조로 위치 찾기①\n",
    "tags_name = soup.select('span.name')\n",
    "print(tags_name)"
   ]
  },
  {
   "cell_type": "code",
   "execution_count": 9,
   "metadata": {},
   "outputs": [
    {
     "name": "stdout",
     "output_type": "stream",
     "text": [
      "[<span class=\"name\"> 바나나 </span>]\n"
     ]
    }
   ],
   "source": [
    "# 예제 2-45 태그 구조로 위치 찾기②\n",
    "tags_banana1 = soup.select('#fruits1 > span.name')\n",
    "print(tags_banana1)"
   ]
  },
  {
   "cell_type": "code",
   "execution_count": 10,
   "metadata": {},
   "outputs": [
    {
     "name": "stdout",
     "output_type": "stream",
     "text": [
      "[<span class=\"name\"> 바나나 </span>]\n",
      "[<span class=\"name\"> 바나나 </span>]\n"
     ]
    }
   ],
   "source": [
    "# 예제 2-46 태그 구조로 위치 찾기③\n",
    "tags_banana2 = soup.select('div.sale > #fruits1 > span.name')\n",
    "tags_banana3 = soup.select('div.sale span.name')\n",
    "print(tags_banana2)\n",
    "print(tags_banana3)"
   ]
  },
  {
   "cell_type": "markdown",
   "metadata": {},
   "source": [
    "### 2.2.10 정보 가져오기 ① - 태그 그룹에서 하나의 태그 선택하기\n"
   ]
  },
  {
   "cell_type": "code",
   "execution_count": 11,
   "metadata": {},
   "outputs": [
    {
     "name": "stdout",
     "output_type": "stream",
     "text": [
      "<span class=\"name\"> 바나나 </span>\n"
     ]
    }
   ],
   "source": [
    "# 예제 2-47 태그 그룹에서 하나의 태그만 선택하기\n",
    "tags = soup.select('span.name')\n",
    "tag_1 = tags[0]    #인덱스 번호로 하나의 태그 지정하기\n",
    "print(tag_1)"
   ]
  },
  {
   "cell_type": "code",
   "execution_count": 12,
   "metadata": {},
   "outputs": [
    {
     "name": "stdout",
     "output_type": "stream",
     "text": [
      "<span class=\"name\"> 바나나 </span>\n",
      "<span class=\"name\"> 파인애플 </span>\n"
     ]
    }
   ],
   "source": [
    "# 예제 2-48 태그 그룹에서 반복문으로 태그 하나씩 선택하기\n",
    "tags = soup.select('span.name')\n",
    "for tag in tags:      # 반복문으로 태그 그룹에서 각각의 태그 선택하여 활용하기\n",
    "    print(tag)"
   ]
  },
  {
   "cell_type": "markdown",
   "metadata": {},
   "source": [
    "### 2.2.11 정보 가져오기 ② - 선택한 태그에서 정보 가져오기"
   ]
  },
  {
   "cell_type": "raw",
   "metadata": {},
   "source": [
    "# 예제 2-49 태그에서 정보 가져오기\n",
    "content = tag.text   # 태그에서 화면에 보이는 텍스트 부분만 가져오기\n",
    "attribute = tag['속성명']  # 태그 내 속성값 가져오기"
   ]
  },
  {
   "cell_type": "code",
   "execution_count": null,
   "metadata": {},
   "outputs": [],
   "source": [
    "# 예제 2-50 선택한 태그에서 텍스트, 속성 값 가져오기\n",
    "tags = soup.select('a')\n",
    "tag = tags[0]\n",
    "content = tag.text\n",
    "print(content)\n",
    "link = tag['href']\n",
    "print(link)\n"
   ]
  },
  {
   "cell_type": "markdown",
   "metadata": {},
   "source": [
    "### 2.2.12 멜론 노래 순위 정보 크롤링①"
   ]
  },
  {
   "cell_type": "markdown",
   "metadata": {},
   "source": [
    "※ 경로지정시  `슬러시 (/) 사용` \n",
    "    * 역슬러시(\\) X  : unicode 에러 발생 가능\n",
    "    * 슬러시(/)  O"
   ]
  },
  {
   "cell_type": "markdown",
   "metadata": {},
   "source": [
    "※ 멜론 사이트 개편으로 인해, 크롤링 진행 코드가 변경되었습니다. (updated 2020.07.13)"
   ]
  },
  {
   "cell_type": "code",
   "execution_count": 15,
   "metadata": {},
   "outputs": [],
   "source": [
    "# 예제 2-51 크롬드라이버 실행\n",
    "from selenium import webdriver\n",
    "driver = webdriver.Chrome('c:/playwithdata/chromedriver.exe')"
   ]
  },
  {
   "cell_type": "code",
   "execution_count": 16,
   "metadata": {},
   "outputs": [],
   "source": [
    "# 예제 2-52 멜론 인기차트 웹페이지 접속하기\n",
    "url = 'http://www.melon.com/chart/index.htm'\n",
    "driver.get(url)"
   ]
  },
  {
   "cell_type": "code",
   "execution_count": 17,
   "metadata": {},
   "outputs": [],
   "source": [
    "# 예제 2-53 HTML 다운로드 및 BeautifulSoup으로 읽기\n",
    "from bs4 import BeautifulSoup\n",
    "html = driver.page_source\n",
    "soup = BeautifulSoup(html, 'html.parser')"
   ]
  },
  {
   "cell_type": "code",
   "execution_count": 18,
   "metadata": {},
   "outputs": [
    {
     "name": "stdout",
     "output_type": "stream",
     "text": [
      "101\n",
      "<tr>\n",
      "<th scope=\"col\">\n",
      "<div class=\"wrap t_right\"><input class=\"input_check d_checkall\" title=\"곡 목록 전체 선택\" type=\"checkbox\"/></div>\n",
      "</th>\n",
      "<th scope=\"col\">\n",
      "<div class=\"wrap none\">앨범이미지</div>\n",
      "</th>\n",
      "<th scope=\"col\">\n",
      "<div class=\"wrap none\">곡 상세가기</div>\n",
      "</th>\n",
      "<th scope=\"col\">\n",
      "<div class=\"wrap pd_l_12\">곡정보</div>\n",
      "</th>\n",
      "<th scope=\"col\">\n",
      "<div class=\"wrap pd_l_12\">앨범</div>\n",
      "</th>\n",
      "<th scope=\"col\">\n",
      "<div class=\"wrap pd_l_30\">좋아요</div>\n",
      "</th>\n",
      "<th scope=\"col\">\n",
      "<div class=\"wrap t_center\">듣기</div>\n",
      "</th>\n",
      "<th scope=\"col\">\n",
      "<div class=\"wrap t_center\">담기</div>\n",
      "</th>\n",
      "<th scope=\"col\">\n",
      "<div class=\"wrap t_center\">다운</div>\n",
      "</th>\n",
      "<th scope=\"col\">\n",
      "<div class=\"wrap t_center\">뮤비</div>\n",
      "</th>\n",
      "</tr>\n"
     ]
    }
   ],
   "source": [
    "# 예제 2-54-1  100개의 노래 태그 찾기  --> 사이트 개편으로 코드 변경됨(updated 2020.07.13)\n",
    "songs = soup.select('tr')  \n",
    "print(len(songs))\n",
    "print(songs[0])"
   ]
  },
  {
   "cell_type": "code",
   "execution_count": 19,
   "metadata": {},
   "outputs": [
    {
     "name": "stdout",
     "output_type": "stream",
     "text": [
      "100\n",
      "<tr data-song-no=\"32978341\">\n",
      "<td><div class=\"wrap t_right\"><input class=\"input_check \" name=\"input_check\" title=\"DON'T TOUCH ME 곡 선택\" type=\"checkbox\" value=\"32978341\"/></div></td>\n",
      "<td><div class=\"wrap\">\n",
      "<a class=\"image_typeAll\" href=\"javascript:melon.link.goAlbumDetail('10501191');\" title=\"DON'T TOUCH ME\">\n",
      "<img alt=\"DON'T TOUCH ME - 페이지 이동\" height=\"60\" onerror=\"WEBPOCIMG.defaultAlbumImg(this);\" src=\"https://cdnimg.melon.co.kr/cm2/album/images/105/01/191/10501191_20201008173829_500.jpg/melon/resize/120/quality/80/optimize\" width=\"60\"/>\n",
      "<span class=\"bg_album_frame\"></span>\n",
      "</a>\n",
      "</div></td>\n",
      "<td><div class=\"wrap\">\n",
      "<a class=\"btn button_icons type03 song_info\" href=\"javascript:melon.link.goSongDetail('32978341');\" title=\"DON'T TOUCH ME 곡정보\"><span class=\"none\">곡정보</span></a>\n",
      "</div></td>\n",
      "<td><div class=\"wrap\">\n",
      "<div class=\"wrap_song_info\">\n",
      "<div class=\"ellipsis rank01\"><span>\n",
      "<a href=\"javascript:melon.play.playSong('19030101',32978341);\" title=\"DON'T TOUCH ME 재생\">DON'T TOUCH ME</a>\n",
      "</span></div>\n",
      "<br/>\n",
      "<div class=\"ellipsis rank02\">\n",
      "<a href=\"javascript:melon.link.goArtistDetail('2895619');\" title=\"환불원정대 - 페이지 이동\">환불원정대</a><span class=\"checkEllipsis\" style=\"display: none;\"><a href=\"javascript:melon.link.goArtistDetail('2895619');\" title=\"환불원정대 - 페이지 이동\">환불원정대</a></span>\n",
      "</div>\n",
      "</div>\n",
      "</div></td>\n",
      "<td><div class=\"wrap\">\n",
      "<div class=\"wrap_song_info\">\n",
      "<div class=\"ellipsis rank03\">\n",
      "<a href=\"javascript:melon.link.goAlbumDetail('10501191');\" title=\"DON'T TOUCH ME - 페이지 이동\">DON'T TOUCH ME</a>\n",
      "</div>\n",
      "</div>\n",
      "</div></td>\n",
      "<td><div class=\"wrap\">\n",
      "<button class=\"button_etc like\" data-song-menuid=\"19030101\" data-song-no=\"32978341\" title=\"DON'T TOUCH ME 좋아요\" type=\"button\"><span class=\"odd_span\">좋아요</span>\n",
      "<span class=\"cnt\">\n",
      "<span class=\"none\">총건수</span>\n",
      "126,971</span></button>\n",
      "</div></td>\n",
      "<td><div class=\"wrap t_center\">\n",
      "<button class=\"button_icons play \" onclick=\"melon.play.playSong('19030101',32978341);\" title=\"듣기\" type=\"button\"><span class=\"none\">듣기</span></button>\n",
      "</div></td>\n",
      "<td><div class=\"wrap t_center\">\n",
      "<button class=\"button_icons scrap \" onclick=\"melon.play.addPlayList('32978341');\" title=\"담기\" type=\"button\"><span class=\"none\">담기</span></button>\n",
      "</div></td>\n",
      "<td><div class=\"wrap t_center\">\n",
      "<button class=\"button_icons download \" onclick=\"melon.buy.goBuyProduct('frm', '32978341', '3C0001', '','0', '19030101');\" title=\"다운로드\" type=\"button\"><span class=\"none\">다운로드</span></button>\n",
      "</div></td>\n",
      "<td><div class=\"wrap t_center\">\n",
      "<button class=\"button_icons video disabled\" disabled=\"disabled\" onclick=\"melon.link.goMvDetail('19030101', '32978341','song');\" title=\"뮤직비디오\" type=\"button\"><span class=\"none\">뮤직비디오</span></button>\n",
      "</div></td>\n",
      "</tr>\n"
     ]
    }
   ],
   "source": [
    "# 예제 2-54-2  추가내용(updated 2020.07.13)\n",
    "# 100개의 곡을 찾고 싶으나, 101개의 태그 뭉치가 검색됨    len(songs)  -->  101 \n",
    "# 101개 중 첫 번째 태그 뭉치(songs[0]) 을 살펴보니 표에서 컬럼제목(곡정보/앨범/좋아요... )을 나타내고 있음\n",
    "# 101개 중 첫 번째는 컬럼 제목,   두 번째 부터 끝까지,  남은 100개는 노래 정보 일 것으로 예상됨\n",
    "\n",
    "songs = soup.select('tr')[1:]     # 첫 번째는 제외하고, 두 번째(인덱스번호 1) 부터 끝까지만 선택\n",
    "print(len(songs))                 # 100  으로   정리하고 싶은 노래 개수에 맞게 선택됨\n",
    "print(songs[0])                   # 그 중 첫 번째 태그를 보니, 1위 곡으로 조회됨"
   ]
  },
  {
   "cell_type": "code",
   "execution_count": 21,
   "metadata": {
    "collapsed": true
   },
   "outputs": [
    {
     "data": {
      "text/plain": [
       "<tr data-song-no=\"32978341\">\n",
       "<td><div class=\"wrap t_right\"><input class=\"input_check \" name=\"input_check\" title=\"DON'T TOUCH ME 곡 선택\" type=\"checkbox\" value=\"32978341\"/></div></td>\n",
       "<td><div class=\"wrap\">\n",
       "<a class=\"image_typeAll\" href=\"javascript:melon.link.goAlbumDetail('10501191');\" title=\"DON'T TOUCH ME\">\n",
       "<img alt=\"DON'T TOUCH ME - 페이지 이동\" height=\"60\" onerror=\"WEBPOCIMG.defaultAlbumImg(this);\" src=\"https://cdnimg.melon.co.kr/cm2/album/images/105/01/191/10501191_20201008173829_500.jpg/melon/resize/120/quality/80/optimize\" width=\"60\"/>\n",
       "<span class=\"bg_album_frame\"></span>\n",
       "</a>\n",
       "</div></td>\n",
       "<td><div class=\"wrap\">\n",
       "<a class=\"btn button_icons type03 song_info\" href=\"javascript:melon.link.goSongDetail('32978341');\" title=\"DON'T TOUCH ME 곡정보\"><span class=\"none\">곡정보</span></a>\n",
       "</div></td>\n",
       "<td><div class=\"wrap\">\n",
       "<div class=\"wrap_song_info\">\n",
       "<div class=\"ellipsis rank01\"><span>\n",
       "<a href=\"javascript:melon.play.playSong('19030101',32978341);\" title=\"DON'T TOUCH ME 재생\">DON'T TOUCH ME</a>\n",
       "</span></div>\n",
       "<br/>\n",
       "<div class=\"ellipsis rank02\">\n",
       "<a href=\"javascript:melon.link.goArtistDetail('2895619');\" title=\"환불원정대 - 페이지 이동\">환불원정대</a><span class=\"checkEllipsis\" style=\"display: none;\"><a href=\"javascript:melon.link.goArtistDetail('2895619');\" title=\"환불원정대 - 페이지 이동\">환불원정대</a></span>\n",
       "</div>\n",
       "</div>\n",
       "</div></td>\n",
       "<td><div class=\"wrap\">\n",
       "<div class=\"wrap_song_info\">\n",
       "<div class=\"ellipsis rank03\">\n",
       "<a href=\"javascript:melon.link.goAlbumDetail('10501191');\" title=\"DON'T TOUCH ME - 페이지 이동\">DON'T TOUCH ME</a>\n",
       "</div>\n",
       "</div>\n",
       "</div></td>\n",
       "<td><div class=\"wrap\">\n",
       "<button class=\"button_etc like\" data-song-menuid=\"19030101\" data-song-no=\"32978341\" title=\"DON'T TOUCH ME 좋아요\" type=\"button\"><span class=\"odd_span\">좋아요</span>\n",
       "<span class=\"cnt\">\n",
       "<span class=\"none\">총건수</span>\n",
       "126,971</span></button>\n",
       "</div></td>\n",
       "<td><div class=\"wrap t_center\">\n",
       "<button class=\"button_icons play \" onclick=\"melon.play.playSong('19030101',32978341);\" title=\"듣기\" type=\"button\"><span class=\"none\">듣기</span></button>\n",
       "</div></td>\n",
       "<td><div class=\"wrap t_center\">\n",
       "<button class=\"button_icons scrap \" onclick=\"melon.play.addPlayList('32978341');\" title=\"담기\" type=\"button\"><span class=\"none\">담기</span></button>\n",
       "</div></td>\n",
       "<td><div class=\"wrap t_center\">\n",
       "<button class=\"button_icons download \" onclick=\"melon.buy.goBuyProduct('frm', '32978341', '3C0001', '','0', '19030101');\" title=\"다운로드\" type=\"button\"><span class=\"none\">다운로드</span></button>\n",
       "</div></td>\n",
       "<td><div class=\"wrap t_center\">\n",
       "<button class=\"button_icons video disabled\" disabled=\"disabled\" onclick=\"melon.link.goMvDetail('19030101', '32978341','song');\" title=\"뮤직비디오\" type=\"button\"><span class=\"none\">뮤직비디오</span></button>\n",
       "</div></td>\n",
       "</tr>"
      ]
     },
     "execution_count": 21,
     "metadata": {},
     "output_type": "execute_result"
    }
   ],
   "source": [
    "# 예제 2-55 한 개의 곡 정보 지정하기\n",
    "song = songs[0]\n",
    "# print(song)   # 데이터 확인 할 경우 주석 해제하고 실행하세요"
   ]
  },
  {
   "cell_type": "code",
   "execution_count": 26,
   "metadata": {},
   "outputs": [
    {
     "data": {
      "text/plain": [
       "6"
      ]
     },
     "execution_count": 26,
     "metadata": {},
     "output_type": "execute_result"
    }
   ],
   "source": [
    "# 예제 2-56 곡 제목 찾기 1\n",
    "title = song.select('a')\n",
    "len(title)"
   ]
  },
  {
   "cell_type": "code",
   "execution_count": 27,
   "metadata": {},
   "outputs": [
    {
     "data": {
      "text/plain": [
       "2"
      ]
     },
     "execution_count": 27,
     "metadata": {},
     "output_type": "execute_result"
    }
   ],
   "source": [
    "# 예제 2-57 곡 제목 찾기 2\n",
    "title = song.select('span > a')\n",
    "len(title)"
   ]
  },
  {
   "cell_type": "code",
   "execution_count": 28,
   "metadata": {},
   "outputs": [
    {
     "data": {
      "text/plain": [
       "1"
      ]
     },
     "execution_count": 28,
     "metadata": {},
     "output_type": "execute_result"
    }
   ],
   "source": [
    "# 예제 2-58 곡 제목 찾기 3\n",
    "title = song.select('div.ellipsis.rank01 > span > a')\n",
    "len(title)"
   ]
  },
  {
   "cell_type": "code",
   "execution_count": 29,
   "metadata": {},
   "outputs": [
    {
     "data": {
      "text/plain": [
       "\"DON'T TOUCH ME\""
      ]
     },
     "execution_count": 29,
     "metadata": {},
     "output_type": "execute_result"
    }
   ],
   "source": [
    "# 예제 2-59 곡 제목 가져오기\n",
    "title = song.select('div.ellipsis.rank01 > span > a')[0].text\n",
    "title"
   ]
  },
  {
   "cell_type": "code",
   "execution_count": 30,
   "metadata": {},
   "outputs": [
    {
     "data": {
      "text/plain": [
       "1"
      ]
     },
     "execution_count": 30,
     "metadata": {},
     "output_type": "execute_result"
    }
   ],
   "source": [
    "# 예제 2-60 가수 찾기\n",
    "singer = song.select('div.ellipsis.rank02 > a')\n",
    "len(singer)"
   ]
  },
  {
   "cell_type": "code",
   "execution_count": 31,
   "metadata": {},
   "outputs": [
    {
     "data": {
      "text/plain": [
       "'환불원정대'"
      ]
     },
     "execution_count": 31,
     "metadata": {},
     "output_type": "execute_result"
    }
   ],
   "source": [
    "# 예제 2-61 가수 정보 가져오기\n",
    "singer = song.select('div.ellipsis.rank02 > a')[0].text\n",
    "singer"
   ]
  },
  {
   "cell_type": "code",
   "execution_count": 32,
   "metadata": {},
   "outputs": [
    {
     "name": "stdout",
     "output_type": "stream",
     "text": [
      "DON'T TOUCH ME | 환불원정대\n",
      "Dynamite | 방탄소년단\n",
      "Lovesick Girls | BLACKPINK\n",
      "취기를 빌려 (취향저격 그녀 X 산들) | 산들\n",
      "When We Disco (Duet with 선미) | 박진영\n",
      "오래된 노래 | 스탠딩 에그\n",
      "눈누난나 (NUNU NANA) | 제시 (Jessi)\n",
      "Savage Love (Laxed - Siren Beat) (BTS Remix) | Jawsh 685\n",
      "내 마음이 움찔했던 순간 (취향저격 그녀 X 규현) | 규현 (KYUHYUN)\n",
      "마리아 (Maria) | 화사 (Hwa Sa)\n",
      "How You Like That | BLACKPINK\n",
      "에잇(Prod.&Feat. SUGA of BTS) | 아이유\n",
      "Dolphin | 오마이걸 (OH MY GIRL)\n",
      "다시 여기 바닷가 | 싹쓰리 (유두래곤, 린다G, 비룡)\n",
      "아로하 | 조정석\n",
      "Downtown Baby | 블루 (BLOO)\n",
      "어떻게 지내 (Prod. By VAN.C) | 오반\n",
      "홀로 | 이하이\n",
      "Dance Monkey | Tones And I\n",
      "Blueming | 아이유\n",
      "늦은 밤 너의 집 앞 골목길에서 | 노을\n",
      "Memories | Maroon 5\n",
      "작은 것들을 위한 시 (Boy With Luv) (Feat. Halsey) | 방탄소년단\n",
      "어떻게 이별까지 사랑하겠어, 널 사랑하는 거지 | AKMU (악동뮤지션)\n",
      "METEOR | 창모 (CHANGMO)\n",
      "사랑은 지날수록 더욱 선명하게 남아 | 전상근\n",
      "살짝 설렜어 (Nonstop) | 오마이걸 (OH MY GIRL)\n",
      "흔들리는 꽃들 속에서 네 샴푸향이 느껴진거야 | 장범준\n",
      "거짓말이라도 해서 널 보고싶어 | 백지영\n",
      "모든 날, 모든 순간 (Every day, Every Moment) | 폴킴\n",
      "덤디덤디 (DUMDi DUMDi) | (여자)아이들\n",
      "사랑하게 될 줄 알았어 | 전미도\n",
      "오늘도 빛나는 너에게 (To You My Light) (Feat.이라온) | 마크툽 (MAKTUB)\n",
      "Ice Cream (with Selena Gomez) | BLACKPINK\n",
      "Summer Hate (Feat. 비) | 지코 (ZICO)\n",
      "2002 | Anne-Marie\n",
      "서면역에서 | 순순희\n",
      "잠이 들어야 (Feat. 헤이즈) | 로꼬\n",
      "Not Shy | ITZY (있지)\n",
      "우리 왜 헤어져야 해 | 신예영\n",
      "Don't Start Now | Dua Lipa\n",
      "처음처럼 | 엠씨더맥스 (M.C the MAX)\n",
      "Bad Boy | 청하\n",
      "봄날 | 방탄소년단\n",
      "마음을 드려요 | 아이유\n",
      "아무노래 | 지코 (ZICO)\n",
      "가을 타나 봐 | 바이브\n",
      "보라빛 밤 (pporappippam) | 선미\n",
      "ON | 방탄소년단\n",
      "안녕 | 폴킴\n",
      "시작 | 가호 (Gaho)\n",
      "12:45 (Stripped) | Etham\n",
      "이제 나만 믿어요 | 임영웅\n",
      "Maniac | Conan Gray\n",
      "Love poem | 아이유\n",
      "Pretty Savage | BLACKPINK\n",
      "축하해 | 오반\n",
      "좋은 사람 있으면 소개시켜줘 | 조이 (JOY)\n",
      "Into the I-LAND | 아이유\n",
      "Bet You Wanna (Feat. Cardi B) | BLACKPINK\n",
      "Psycho | Red Velvet (레드벨벳)\n",
      "밤새 (취향저격 그녀 X 카더가든) | 카더가든\n",
      "그 여름을 틀어줘 | 싹쓰리 (유두래곤, 린다G, 비룡)\n",
      "취했나봐 | 황인욱\n",
      "Paris In The Rain | Lauv\n",
      "그때 그 아인 | 김필\n",
      "너를 만나 | 폴킴\n",
      "별을 담은 시 (Ode To The Stars) | 마크툽 (MAKTUB)\n",
      "ALIEN | 이수현\n",
      "나비와 고양이 (feat.백현 (BAEKHYUN)) | 볼빨간사춘기\n",
      "Painkiller | Ruel\n",
      "bad guy | Billie Eilish\n",
      "신난다 (Feat. 마마무) | 비룡\n",
      "시든 꽃에 물을 주듯 | HYNN (박혜원)\n",
      "반만 | 진민호\n",
      "화려하지 않은 고백 | 규현 (KYUHYUN)\n",
      "Stuck with U | Ariana Grande\n",
      "너를 사랑하고 있어 | 백현 (BAEKHYUN)\n",
      "사랑이란 멜로는 없어 | 전상근\n",
      "하루도 그대를 사랑하지 않은 적이 없었다 | 임창정\n",
      "밤하늘의 저 별처럼 | 헤이즈 (Heize)\n",
      "00:00 (Zero O’Clock) | 방탄소년단\n",
      "너의 밤은 어때 (취향저격 그녀 X 정은지) | 정은지\n",
      "첫 줄 | 신용재 (2F)\n",
      "사랑하는 너에게 (취향저격 그녀 X 스탠딩 에그) | 스탠딩 에그\n",
      "숲의 아이 (Bon voyage) | 유아 (오마이걸)\n",
      "여름 안에서 by 싹쓰리 (Feat. 황광희) | 싹쓰리 (유두래곤, 린다G, 비룡)\n",
      "MORE & MORE | TWICE (트와이스)\n",
      "어떻게 지내 (답가) | 런치\n",
      "To Die For | Sam Smith\n",
      "Black Swan | 방탄소년단\n",
      "PLAY (Feat. 창모) | 청하\n",
      "행복해 | 송하예\n",
      "친구 | 방탄소년단\n",
      "HIP | 마마무 (Mamamoo)\n",
      "LINDA (Feat. 윤미래) | 린다G\n",
      "어느 60대 노부부이야기 | 임영웅\n",
      "Filter | 방탄소년단\n",
      "Moon | 방탄소년단\n",
      "너의 목소리 | 펀치 (Punch)\n"
     ]
    }
   ],
   "source": [
    "# 예제 2-62 멜론 50위 노래순위 정보 가져오기\n",
    "for song in songs:                                        \n",
    "    title = song.select('div.ellipsis.rank01 > span > a')[0].text\n",
    "    singer = song.select ('div.ellipsis.rank02 > a')[0].text  \n",
    "    print(title, singer, sep = ' | ')"
   ]
  },
  {
   "cell_type": "code",
   "execution_count": 33,
   "metadata": {
    "collapsed": true
   },
   "outputs": [
    {
     "name": "stdout",
     "output_type": "stream",
     "text": [
      "DON'T TOUCH ME | 환불원정대\n",
      "Dynamite | 방탄소년단\n",
      "Lovesick Girls | BLACKPINK\n",
      "취기를 빌려 (취향저격 그녀 X 산들) | 산들\n",
      "When We Disco (Duet with 선미) | 박진영\n",
      "오래된 노래 | 스탠딩 에그\n",
      "눈누난나 (NUNU NANA) | 제시 (Jessi)\n",
      "Savage Love (Laxed - Siren Beat) (BTS Remix) | Jawsh 685\n",
      "내 마음이 움찔했던 순간 (취향저격 그녀 X 규현) | 규현 (KYUHYUN)\n",
      "마리아 (Maria) | 화사 (Hwa Sa)\n",
      "How You Like That | BLACKPINK\n",
      "에잇(Prod.&Feat. SUGA of BTS) | 아이유\n",
      "Dolphin | 오마이걸 (OH MY GIRL)\n",
      "다시 여기 바닷가 | 싹쓰리 (유두래곤, 린다G, 비룡)\n",
      "아로하 | 조정석\n",
      "Downtown Baby | 블루 (BLOO)\n",
      "어떻게 지내 (Prod. By VAN.C) | 오반\n",
      "홀로 | 이하이\n",
      "Dance Monkey | Tones And I\n",
      "Blueming | 아이유\n",
      "늦은 밤 너의 집 앞 골목길에서 | 노을\n",
      "Memories | Maroon 5\n",
      "작은 것들을 위한 시 (Boy With Luv) (Feat. Halsey) | 방탄소년단\n",
      "어떻게 이별까지 사랑하겠어, 널 사랑하는 거지 | AKMU (악동뮤지션)\n",
      "METEOR | 창모 (CHANGMO)\n",
      "사랑은 지날수록 더욱 선명하게 남아 | 전상근\n",
      "살짝 설렜어 (Nonstop) | 오마이걸 (OH MY GIRL)\n",
      "흔들리는 꽃들 속에서 네 샴푸향이 느껴진거야 | 장범준\n",
      "거짓말이라도 해서 널 보고싶어 | 백지영\n",
      "모든 날, 모든 순간 (Every day, Every Moment) | 폴킴\n",
      "덤디덤디 (DUMDi DUMDi) | (여자)아이들\n",
      "사랑하게 될 줄 알았어 | 전미도\n",
      "오늘도 빛나는 너에게 (To You My Light) (Feat.이라온) | 마크툽 (MAKTUB)\n",
      "Ice Cream (with Selena Gomez) | BLACKPINK\n",
      "Summer Hate (Feat. 비) | 지코 (ZICO)\n",
      "2002 | Anne-Marie\n",
      "서면역에서 | 순순희\n",
      "잠이 들어야 (Feat. 헤이즈) | 로꼬\n",
      "Not Shy | ITZY (있지)\n",
      "우리 왜 헤어져야 해 | 신예영\n",
      "Don't Start Now | Dua Lipa\n",
      "처음처럼 | 엠씨더맥스 (M.C the MAX)\n",
      "Bad Boy | 청하\n",
      "봄날 | 방탄소년단\n",
      "마음을 드려요 | 아이유\n",
      "아무노래 | 지코 (ZICO)\n",
      "가을 타나 봐 | 바이브\n",
      "보라빛 밤 (pporappippam) | 선미\n",
      "ON | 방탄소년단\n",
      "안녕 | 폴킴\n",
      "시작 | 가호 (Gaho)\n",
      "12:45 (Stripped) | Etham\n",
      "이제 나만 믿어요 | 임영웅\n",
      "Maniac | Conan Gray\n",
      "Love poem | 아이유\n",
      "Pretty Savage | BLACKPINK\n",
      "축하해 | 오반\n",
      "좋은 사람 있으면 소개시켜줘 | 조이 (JOY)\n",
      "Into the I-LAND | 아이유\n",
      "Bet You Wanna (Feat. Cardi B) | BLACKPINK\n",
      "Psycho | Red Velvet (레드벨벳)\n",
      "밤새 (취향저격 그녀 X 카더가든) | 카더가든\n",
      "그 여름을 틀어줘 | 싹쓰리 (유두래곤, 린다G, 비룡)\n",
      "취했나봐 | 황인욱\n",
      "Paris In The Rain | Lauv\n",
      "그때 그 아인 | 김필\n",
      "너를 만나 | 폴킴\n",
      "별을 담은 시 (Ode To The Stars) | 마크툽 (MAKTUB)\n",
      "ALIEN | 이수현\n",
      "나비와 고양이 (feat.백현 (BAEKHYUN)) | 볼빨간사춘기\n",
      "Painkiller | Ruel\n",
      "bad guy | Billie Eilish\n",
      "신난다 (Feat. 마마무) | 비룡\n",
      "시든 꽃에 물을 주듯 | HYNN (박혜원)\n",
      "반만 | 진민호\n",
      "화려하지 않은 고백 | 규현 (KYUHYUN)\n",
      "Stuck with U | Ariana Grande\n",
      "너를 사랑하고 있어 | 백현 (BAEKHYUN)\n",
      "사랑이란 멜로는 없어 | 전상근\n",
      "하루도 그대를 사랑하지 않은 적이 없었다 | 임창정\n",
      "밤하늘의 저 별처럼 | 헤이즈 (Heize)\n",
      "00:00 (Zero O’Clock) | 방탄소년단\n",
      "너의 밤은 어때 (취향저격 그녀 X 정은지) | 정은지\n",
      "첫 줄 | 신용재 (2F)\n",
      "사랑하는 너에게 (취향저격 그녀 X 스탠딩 에그) | 스탠딩 에그\n",
      "숲의 아이 (Bon voyage) | 유아 (오마이걸)\n",
      "여름 안에서 by 싹쓰리 (Feat. 황광희) | 싹쓰리 (유두래곤, 린다G, 비룡)\n",
      "MORE & MORE | TWICE (트와이스)\n",
      "어떻게 지내 (답가) | 런치\n",
      "To Die For | Sam Smith\n",
      "Black Swan | 방탄소년단\n",
      "PLAY (Feat. 창모) | 청하\n",
      "행복해 | 송하예\n",
      "친구 | 방탄소년단\n",
      "HIP | 마마무 (Mamamoo)\n",
      "LINDA (Feat. 윤미래) | 린다G\n",
      "어느 60대 노부부이야기 | 임영웅\n",
      "Filter | 방탄소년단\n",
      "Moon | 방탄소년단\n",
      "너의 목소리 | 펀치 (Punch)\n"
     ]
    }
   ],
   "source": [
    "# 예제 2-63 멜론 인기차트 중 상위 50곡 크롤링(정리)  # 멜론 사이트 개편으로 코드 수정(updated 2020.07.13)\n",
    "driver = webdriver.Chrome('c:/playwithdata/chromedriver.exe')     \n",
    "url = 'http://www.melon.com/chart/index.htm'\n",
    "driver.get(url)          \n",
    "html = driver.page_source\n",
    "soup = BeautifulSoup(html, 'html.parser')\n",
    "                               \n",
    "songs = soup.select('tr')[1:]     # 멜론 사이트 개편으로 코드 수정(updated 2020.07.13)\n",
    "for song in songs:                                        \n",
    "    title = song.select('div.ellipsis.rank01 > span > a')[0].text\n",
    "    singer = song.select ('div.ellipsis.rank02 > a')[0].text  \n",
    "    print(title, singer, sep = ' | ')"
   ]
  },
  {
   "cell_type": "markdown",
   "metadata": {},
   "source": [
    "### 2.2.13 selenium을 활용한 크롤링"
   ]
  },
  {
   "cell_type": "code",
   "execution_count": null,
   "metadata": {},
   "outputs": [],
   "source": [
    "# 예제 2-64 멜론 인기차트 중 상위 50곡 크롤링(selenium만 활용)\n",
    "# selenium 명령어 변경으로 코드 수정(updated 2022.10.01)   (변경전) find_elements_by_css_selector →    (변경후) find_elements\n",
    "from selenium import webdriver\n",
    "driver = webdriver.Chrome('c:/playwithdata/chromedriver.exe')     \n",
    "url = 'http://www.melon.com/chart/index.htm'\n",
    "driver.get(url)          \n",
    "                                \n",
    "songs = driver.find_elements( 'css selector', 'tr')[1:]     # 멜론 사이트 개편으로 코드 수정(updated 2020.07.13)\n",
    "for song in songs:                                        \n",
    "    title = song.find_elements( 'css selector', 'div.ellipsis.rank01 > span > a')[0].text\n",
    "    singer = song.find_elements( 'css selector', 'div.ellipsis.rank02 > a')[0].text  \n",
    "    print(title, singer, sep = ' | ')"
   ]
  }
 ],
 "metadata": {
  "anaconda-cloud": {},
  "kernelspec": {
   "display_name": "Python 3.8.3 ('base')",
   "language": "python",
   "name": "python3"
  },
  "language_info": {
   "codemirror_mode": {
    "name": "ipython",
    "version": 3
   },
   "file_extension": ".py",
   "mimetype": "text/x-python",
   "name": "python",
   "nbconvert_exporter": "python",
   "pygments_lexer": "ipython3",
   "version": "3.8.3"
  },
  "vscode": {
   "interpreter": {
    "hash": "ad2bdc8ecc057115af97d19610ffacc2b4e99fae6737bb82f5d7fb13d2f2c186"
   }
  }
 },
 "nbformat": 4,
 "nbformat_minor": 1
}
