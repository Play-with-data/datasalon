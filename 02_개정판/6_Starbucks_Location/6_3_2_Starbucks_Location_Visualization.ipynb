{
 "cells": [
  {
   "cell_type": "markdown",
   "metadata": {},
   "source": [
    "## 6.3.2 시군구별 스타벅스 매장 수 시각화"
   ]
  },
  {
   "cell_type": "code",
   "execution_count": null,
   "metadata": {},
   "outputs": [],
   "source": [
    "# 예제 6-57 라이브러리 임포트\n",
    "import pandas as pd\n",
    "import folium\n",
    "import json"
   ]
  },
  {
   "cell_type": "code",
   "execution_count": null,
   "metadata": {
    "scrolled": true
   },
   "outputs": [],
   "source": [
    "# 예제 6-58 서울시 시군구별 통계 데이터 불러오기\n",
    "seoul_sgg_stat = pd.read_excel('./files/seoul_sgg_stat.xlsx', thousands = ',')\n",
    "seoul_sgg_stat.head()"
   ]
  },
  {
   "cell_type": "code",
   "execution_count": null,
   "metadata": {},
   "outputs": [],
   "source": [
    "# 예제 6-59 서울시 시군구 행정 경계 지도 파일 불러오기\n",
    "sgg_geojson_file_path = './maps/seoul_sgg.geojson'\n",
    "seoul_sgg_geo = json.load(open(sgg_geojson_file_path, encoding='utf-8'))\n",
    "seoul_sgg_geo['features'][0]['properties']"
   ]
  },
  {
   "cell_type": "code",
   "execution_count": null,
   "metadata": {},
   "outputs": [],
   "source": [
    "# 예제 6-60 folium 지도 생성\n",
    "starbucks_bubble = folium.Map(\n",
    "    location=[37.573050, 126.979189],\n",
    "    #tiles ='CartoDB positron' ,\n",
    "    tiles='CartoDB dark_matter',\n",
    "    # tiles='CartoDB',\n",
    "    zoom_start=11 )\n",
    "    \n",
    "# )"
   ]
  },
  {
   "cell_type": "code",
   "execution_count": null,
   "metadata": {},
   "outputs": [],
   "source": [
    "#starbucks_bubble"
   ]
  },
  {
   "cell_type": "code",
   "execution_count": null,
   "metadata": {},
   "outputs": [],
   "source": [
    "# 예제 6-61 서울시 시군구 경계 지도 그리기\n",
    "def style_function(feature):\n",
    "    return {\n",
    "        'opacity': 0.7,\n",
    "        'weight': 1,\n",
    "        'color': 'white',\n",
    "        'fillOpacity':0,\n",
    "        'dashArray': '5, 5',\n",
    "    }\n",
    "\n",
    "folium.GeoJson(\n",
    "    seoul_sgg_geo,\n",
    "    style_function=style_function\n",
    ").add_to(starbucks_bubble)\n",
    "\n",
    "starbucks_bubble"
   ]
  },
  {
   "cell_type": "code",
   "execution_count": null,
   "metadata": {},
   "outputs": [],
   "source": [
    "# 예제 6-62 서울시 시군구별 스타벅스 평균 매장 수 계산\n",
    "starbucks_mean = seoul_sgg_stat['스타벅스_매장수'].mean()\n",
    "print(starbucks_mean)"
   ]
  },
  {
   "cell_type": "code",
   "execution_count": null,
   "metadata": {},
   "outputs": [],
   "source": [
    "# 예제 6-63 서울시 시군구별 스타벅스 매장 수를 버블 지도로 시각화\n",
    "for idx in seoul_sgg_stat.index:\n",
    "    lat = seoul_sgg_stat.loc[idx, '위도']\n",
    "    lng = seoul_sgg_stat.loc[idx, '경도']\n",
    "    count = seoul_sgg_stat.loc[idx, '스타벅스_매장수']\n",
    "\n",
    "    if count > starbucks_mean:\n",
    "        fillColor = 'red'\n",
    "    else:\n",
    "        fillColor = 'blue'\n",
    "    \n",
    "    folium.CircleMarker(\n",
    "        location=[lat, lng], \n",
    "        color='#FFFF00',\n",
    "        fill_color=fillColor, \n",
    "        fill_opacity=0.7,\n",
    "        weight=1.5,\n",
    "        radius=count/2\n",
    "    ).add_to(starbucks_bubble)\n",
    "\n",
    "starbucks_bubble"
   ]
  },
  {
   "cell_type": "code",
   "execution_count": null,
   "metadata": {
    "scrolled": false
   },
   "outputs": [],
   "source": [
    "# 예제 6-64 서울시 시군구별 스타벅스 매장 수를 단계구분도로 시각화\n",
    "sgg_geojson_file_path = './maps/seoul_sgg.geojson'\n",
    "seoul_sgg_geo_2 = json.load(open(sgg_geojson_file_path, encoding='utf-8'))\n",
    "starbucks_choropleth = folium.Map(\n",
    "    location=[37.573050, 126.979189],\n",
    "    tiles='CartoDB dark_matter',\n",
    "    zoom_start=11\n",
    ")\n",
    "\n",
    "folium.Choropleth(\n",
    "    geo_data=seoul_sgg_geo_2,\n",
    "    data=seoul_sgg_stat,\n",
    "    columns=['시군구명', '스타벅스_매장수'],\n",
    "    fill_color = 'YlGn',\n",
    "    fill_opacity=0.7,\n",
    "    line_opacity=0.5,\n",
    "    key_on='properties.SIG_KOR_NM'\n",
    "    ).add_to(starbucks_choropleth)\n",
    "\n",
    "starbucks_choropleth"
   ]
  },
  {
   "cell_type": "code",
   "execution_count": null,
   "metadata": {},
   "outputs": [],
   "source": []
  }
 ],
 "metadata": {
  "kernelspec": {
   "display_name": "Python 3",
   "language": "python",
   "name": "python3"
  },
  "language_info": {
   "codemirror_mode": {
    "name": "ipython",
    "version": 3
   },
   "file_extension": ".py",
   "mimetype": "text/x-python",
   "name": "python",
   "nbconvert_exporter": "python",
   "pygments_lexer": "ipython3",
   "version": "3.7.4"
  }
 },
 "nbformat": 4,
 "nbformat_minor": 2
}
