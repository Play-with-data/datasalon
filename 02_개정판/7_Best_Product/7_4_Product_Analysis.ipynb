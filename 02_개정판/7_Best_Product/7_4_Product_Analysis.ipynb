{
 "cells": [
  {
   "cell_type": "markdown",
   "metadata": {},
   "source": [
    "# 7.4  무선청소기 모델별 비교 분석"
   ]
  },
  {
   "cell_type": "markdown",
   "metadata": {},
   "source": [
    "### 7.4.1 데이터 살펴보기 "
   ]
  },
  {
   "cell_type": "code",
   "execution_count": null,
   "metadata": {
    "scrolled": true
   },
   "outputs": [],
   "source": [
    "# 예제 7-34 데이터 불러오기 \n",
    "import pandas as pd\n",
    "danawa_data = pd.read_excel('./files/2_danawa_data_final.xlsx')\n",
    "danawa_data.head()"
   ]
  },
  {
   "cell_type": "code",
   "execution_count": null,
   "metadata": {},
   "outputs": [],
   "source": [
    "# 예제 7-35 흡입력 기준 정렬\n",
    "top_list = danawa_data.sort_values([\"흡입력\"], ascending = False)\n",
    "top_list.head()"
   ]
  },
  {
   "cell_type": "code",
   "execution_count": null,
   "metadata": {},
   "outputs": [],
   "source": [
    "# 예제 7-36 사용시간 기준 정렬\n",
    "top_list = danawa_data.sort_values([\"사용시간\"], ascending = False)\n",
    "top_list.head()"
   ]
  },
  {
   "cell_type": "code",
   "execution_count": null,
   "metadata": {},
   "outputs": [],
   "source": [
    "# 예제 7-37 흡입력, 사용시간을 기준으로 정렬\n",
    "top_list = danawa_data.sort_values([\"사용시간\",\"흡입력\"], ascending = False)\n",
    "top_list.head()"
   ]
  },
  {
   "cell_type": "code",
   "execution_count": null,
   "metadata": {},
   "outputs": [],
   "source": [
    "# 예제 7-38 평균값 정리\n",
    "price_mean_value = danawa_data['가격'].mean()\n",
    "suction_mean_value = danawa_data['흡입력'].mean()\n",
    "use_time_mean_value = danawa_data['사용시간'].mean()\n",
    "print(\"가격 평균값\", price_mean_value)\n",
    "print(\"흡입력 평균값\", suction_mean_value)\n",
    "print(\"사용시간 평균값\", use_time_mean_value)"
   ]
  },
  {
   "cell_type": "code",
   "execution_count": null,
   "metadata": {},
   "outputs": [],
   "source": [
    "# 예제 7-39 가성비 좋은 제품 탐색\n",
    "condition_data = danawa_data [\n",
    "    (danawa_data['가격'] <= price_mean_value) & \n",
    "    (danawa_data['흡입력'] >= suction_mean_value) & \n",
    "    (danawa_data['사용시간'] >= use_time_mean_value)]\n",
    "condition_data"
   ]
  },
  {
   "cell_type": "markdown",
   "metadata": {},
   "source": [
    "### 7.4.3 데이터 시각화"
   ]
  },
  {
   "cell_type": "code",
   "execution_count": null,
   "metadata": {},
   "outputs": [],
   "source": [
    "# 예제 7-40 라이브러리 임포트 및 한글 글꼴 설정\n",
    "from matplotlib import font_manager, rc\n",
    "import matplotlib.pyplot as plt\n",
    "import seaborn as sns\n",
    "import platform \n",
    "# 그래프에서 한글 표기를 위한 글꼴 변경(윈도우, macOS에 대해 처리)\n",
    "font_path = ''\n",
    "if platform.system() == 'Windows': \n",
    "    font_path = 'c:/Windows/Fonts/malgun.ttf'\n",
    "    font_name = font_manager.FontProperties(fname = font_path).get_name()\n",
    "    rc('font', family = font_name)\n",
    "elif platform.system() == 'Darwin':\n",
    "    font_path = '/Users/$USER/Library/Fonts/AppleGothic.ttf'\n",
    "    rc('font', family = 'AppleGothic')\n",
    "else: \n",
    "    print('Check your OS system')\n",
    "    \n",
    "%matplotlib inline"
   ]
  },
  {
   "cell_type": "code",
   "execution_count": null,
   "metadata": {},
   "outputs": [],
   "source": [
    "# 예제 7-41 결측값 없애기\n",
    "chart_data = danawa_data.dropna(axis = 0)\n",
    "len(chart_data)"
   ]
  },
  {
   "cell_type": "code",
   "execution_count": null,
   "metadata": {},
   "outputs": [],
   "source": [
    "# 예제 7-42 흡입력, 사용시간의 최댓값/최솟값 정리\n",
    "# 흡입력, 사용시간 최대, 최소\n",
    "suction_max_value = chart_data['흡입력'].max()\n",
    "suction_mean_value = chart_data['흡입력'].mean()\n",
    "use_time_max_value = chart_data['사용시간'].max()\n",
    "use_time_mean_value = chart_data['사용시간'].mean()"
   ]
  },
  {
   "cell_type": "code",
   "execution_count": null,
   "metadata": {},
   "outputs": [],
   "source": [
    "# 예제 7-43 청소기 성능 시각화\n",
    "plt.figure(figsize=(20, 10))\n",
    "plt.title(\"무선 핸디/스틱청소기 차트\")\n",
    "sns.scatterplot(x = '흡입력', y = '사용시간', size = '가격', hue = chart_data['회사명'], \n",
    "             data = chart_data, sizes = (10, 1000), legend = False)\n",
    "plt.plot([0, suction_max_value], \n",
    "          [use_time_mean_value, use_time_mean_value], \n",
    "          'r--', \n",
    "          lw = 1 )\n",
    "plt.plot([suction_mean_value, suction_mean_value], \n",
    "          [0, use_time_max_value], \n",
    "          'r--', \n",
    "          lw = 1 )\n",
    "plt.show()"
   ]
  },
  {
   "cell_type": "markdown",
   "metadata": {},
   "source": [
    "### 7.4.4 인기 제품의 데이터 시각화"
   ]
  },
  {
   "cell_type": "code",
   "execution_count": null,
   "metadata": {},
   "outputs": [],
   "source": [
    "# 예제 7-44 인기 제품 선택\n",
    "chart_data_selected = chart_data[:20]\n",
    "len(chart_data_selected)"
   ]
  },
  {
   "cell_type": "code",
   "execution_count": null,
   "metadata": {},
   "outputs": [],
   "source": [
    "# 예제 7-45 흡입력, 사용시간의 최댓값/최솟값 정리\n",
    "# 흡입력, 사용시간의 최댓값, 최솟값 구하기\n",
    "suction_max_value = chart_data_selected['흡입력'].max()\n",
    "suction_mean_value = chart_data_selected['흡입력'].mean()\n",
    "use_time_max_value = chart_data_selected['사용시간'].max()\n",
    "use_time_mean_value = chart_data_selected['사용시간'].mean()\n",
    "plt.figure(figsize=(20, 10))\n",
    "plt.title(\"무선 핸디/스틱청소기 TOP 20\")\n",
    "sns.scatterplot(x = '흡입력', \n",
    "                  y = '사용시간', \n",
    "                  size = '가격', \n",
    "                  hue = chart_data_selected['회사명'], \n",
    "                  data = chart_data_selected, sizes = (100, 2000),\n",
    "                  legend = False)\n",
    "plt.plot([60, suction_max_value], \n",
    "          [use_time_mean_value, use_time_mean_value], \n",
    "          'r--', \n",
    "          lw = 1 )\n",
    "plt.plot([suction_mean_value, suction_mean_value], \n",
    "          [20, use_time_max_value], \n",
    "          'r--', \n",
    "          lw = 1 )\n",
    "for index, row in chart_data_selected.iterrows():\n",
    "    x = row['흡입력']\n",
    "    y = row['사용시간']\n",
    "    s = row['제품'].split(' ')[0]\n",
    "    plt.text(x, y, s, size=20)\n",
    "plt.show()"
   ]
  }
 ],
 "metadata": {
  "kernelspec": {
   "display_name": "Python 3",
   "language": "python",
   "name": "python3"
  },
  "language_info": {
   "codemirror_mode": {
    "name": "ipython",
    "version": 3
   },
   "file_extension": ".py",
   "mimetype": "text/x-python",
   "name": "python",
   "nbconvert_exporter": "python",
   "pygments_lexer": "ipython3",
   "version": "3.8.3"
  }
 },
 "nbformat": 4,
 "nbformat_minor": 2
}
