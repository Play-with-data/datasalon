{
 "cells": [
  {
   "cell_type": "markdown",
   "metadata": {},
   "source": [
    "# 6.1 데이터 수집\n",
    "## 6.1.1 크롤링을 이용한 서울시 스타벅스 매장 목록 데이터 생성"
   ]
  },
  {
   "cell_type": "code",
   "execution_count": null,
   "metadata": {},
   "outputs": [],
   "source": [
    "# 예제 6-1  라이브러리 임포트\n",
    "from selenium import webdriver\n",
    "from bs4 import BeautifulSoup\n",
    "import pandas as pd"
   ]
  },
  {
   "cell_type": "code",
   "execution_count": null,
   "metadata": {},
   "outputs": [],
   "source": [
    "# 예제 6-2  webdriver 실행 후 스타벅스의 지역별 매장 검색 화면에 접속\n",
    "driver = webdriver.Chrome('c:/playwithdata/chromedriver.exe')\n",
    "# driver = webdriver.Chrome('../chromedriver')\n",
    "url = 'https://www.istarbucks.co.kr/store/store_map.do?disp=locale'\n",
    "driver.get(url)"
   ]
  },
  {
   "cell_type": "code",
   "execution_count": null,
   "metadata": {},
   "outputs": [],
   "source": [
    "# 예제 6-3 webdriver로 ‘서울’ 버튼 요소를 찾아 클릭\n",
    "seoul_btn = '#container > div > form > fieldset > div > section > article.find_store_cont > article > article:nth-child(4) > div.loca_step1 > div.loca_step1_cont > ul > li:nth-child(1) > a'\n",
    "driver.find_element('css selector', seoul_btn).click() # selenium 명령어 변경으로 인한 코드 수정 (updated 2022.10.03)"
   ]
  },
  {
   "cell_type": "code",
   "execution_count": null,
   "metadata": {},
   "outputs": [],
   "source": [
    "# 예제 6-4  webdriver로 ‘전체’ 버튼 요소를 찾아 클릭\n",
    "all_btn = '#mCSB_2_container > ul > li:nth-child(1) > a'\n",
    "driver.find_element('css selector', all_btn).click()  # selenium 명령어 변경으로 인한 코드 수정 (updated 2022.10.03)"
   ]
  },
  {
   "cell_type": "code",
   "execution_count": null,
   "metadata": {},
   "outputs": [],
   "source": []
  },
  {
   "cell_type": "code",
   "execution_count": null,
   "metadata": {},
   "outputs": [],
   "source": [
    "# 예제 6-5  BeautifulSoup으로 HTML 파서 만들기\n",
    "html = driver.page_source\n",
    "soup = BeautifulSoup(html, 'html.parser')"
   ]
  },
  {
   "cell_type": "code",
   "execution_count": null,
   "metadata": {},
   "outputs": [],
   "source": [
    "# 예제 6-6  select()를 이용해 원하는 HTML 태그를 모두 찾아오기\n",
    "starbucks_soup_list = soup.select('li.quickResultLstCon')\n",
    "print(len(starbucks_soup_list))"
   ]
  },
  {
   "cell_type": "code",
   "execution_count": null,
   "metadata": {},
   "outputs": [],
   "source": [
    "# 예제 6-7  태그 문자열 살펴보기\n",
    "starbucks_soup_list[0]"
   ]
  },
  {
   "cell_type": "code",
   "execution_count": null,
   "metadata": {},
   "outputs": [],
   "source": [
    "# 예제 6-8 스타벅스 매장 정보 샘플 확인\n",
    "startbucks_store = starbucks_soup_list[0]\n",
    "name = startbucks_store.select('strong')[0].text.strip()\n",
    "lat = startbucks_store['data-lat'].strip()\n",
    "lng = startbucks_store['data-long'].strip()\n",
    "store_type = startbucks_store.select('i')[0]['class'][0][4:]\n",
    "address = str(startbucks_store.select('p.result_details')[0]).split('<br/>')[0].split('>')[1]\n",
    "tel = str(startbucks_store.select('p.result_details')[0]).split('<br/>')[1].split('<')[0]\n",
    "\n",
    "print(name)         # 매장명\n",
    "print(lat)          # 위도\n",
    "print(lng)          # 경도\n",
    "print(store_type)   # 매장 타입\n",
    "print(address)      # 주소\n",
    "print(tel)          # 전화번호"
   ]
  },
  {
   "cell_type": "code",
   "execution_count": null,
   "metadata": {},
   "outputs": [],
   "source": [
    "# 예제 6-9 서울시 스타벅스 매장 목록 데이터 만들기\n",
    "starbucks_list = []\n",
    "for item in starbucks_soup_list:\n",
    "    name = item.select('strong')[0].text.strip();\n",
    "    lat = item['data-lat'].strip()\n",
    "    lng = item['data-long'].strip()\n",
    "    store_type = item.select('i')[0]['class'][0][4:]\n",
    "    address = str(item.select('p.result_details')[0]).split('<br/>')[0].split('>')[1]\n",
    "    tel = str(item.select('p.result_details')[0]).split('<br/>')[1].split('<')[0]\n",
    "    \n",
    "    starbucks_list.append( [ name, lat, lng, store_type, address, tel])"
   ]
  },
  {
   "cell_type": "code",
   "execution_count": null,
   "metadata": {},
   "outputs": [],
   "source": [
    "# 예제 6-10  pandas의 데이터프레임 생성\n",
    "columns = ['매장명','위도','경도','매장타입', '주소','전화번호']\n",
    "seoul_starbucks_df = pd.DataFrame(starbucks_list, columns = columns)\n",
    "seoul_starbucks_df.head()"
   ]
  },
  {
   "cell_type": "code",
   "execution_count": null,
   "metadata": {},
   "outputs": [],
   "source": [
    "# 예제 6-11  데이터프레임의 요약 정보 확인\n",
    "seoul_starbucks_df.info()"
   ]
  },
  {
   "cell_type": "code",
   "execution_count": null,
   "metadata": {},
   "outputs": [],
   "source": [
    "# 예제 6-12 엑셀로 저장\n",
    "seoul_starbucks_df.to_excel('./files/seoul_starbucks_list.xlsx', index=False)"
   ]
  }
 ],
 "metadata": {
  "kernelspec": {
   "display_name": "Python 3.8.3 ('base')",
   "language": "python",
   "name": "python3"
  },
  "language_info": {
   "codemirror_mode": {
    "name": "ipython",
    "version": 3
   },
   "file_extension": ".py",
   "mimetype": "text/x-python",
   "name": "python",
   "nbconvert_exporter": "python",
   "pygments_lexer": "ipython3",
   "version": "3.8.3"
  },
  "vscode": {
   "interpreter": {
    "hash": "ad2bdc8ecc057115af97d19610ffacc2b4e99fae6737bb82f5d7fb13d2f2c186"
   }
  }
 },
 "nbformat": 4,
 "nbformat_minor": 2
}
