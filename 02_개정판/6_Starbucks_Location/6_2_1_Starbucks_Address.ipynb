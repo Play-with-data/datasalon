{
 "cells": [
  {
   "cell_type": "markdown",
   "metadata": {},
   "source": [
    "# 6.2 데이터 전처리\n",
    "## 6.2.1 서울시 스타벅스 매장 목록, 인구, 사업체 데이터에 시군구명, 시군구코드 추가"
   ]
  },
  {
   "cell_type": "code",
   "execution_count": null,
   "metadata": {},
   "outputs": [],
   "source": [
    "# 예제 6-39  서울시 스타벅스 매장 목록이 담긴 엑셀 파일 불러오기\n",
    "import pandas as pd\n",
    "seoul_starbucks = pd.read_excel('./files/seoul_starbucks.xlsx', header=0)\n",
    "seoul_starbucks.head()"
   ]
  },
  {
   "cell_type": "code",
   "execution_count": null,
   "metadata": {},
   "outputs": [],
   "source": [
    "# 예제 6-40 스타벅스 주소 정보에서 시군구명 추출\n",
    "sgg_names = []\n",
    "for address in seoul_starbucks['주소']:\n",
    "    sgg = address.split()[1]\n",
    "    sgg_names.append(sgg)\n",
    "seoul_starbucks['시군구명'] = sgg_names\n",
    "seoul_starbucks.head()"
   ]
  },
  {
   "cell_type": "code",
   "execution_count": null,
   "metadata": {},
   "outputs": [],
   "source": [
    "# 예제 6-41 엑셀로 저장\n",
    "seoul_starbucks.to_excel('./files/seoul_starbucks_list.xlsx', index=False)"
   ]
  },
  {
   "cell_type": "code",
   "execution_count": null,
   "metadata": {},
   "outputs": [],
   "source": []
  }
 ],
 "metadata": {
  "kernelspec": {
   "display_name": "Python 3",
   "language": "python",
   "name": "python3"
  },
  "language_info": {
   "codemirror_mode": {
    "name": "ipython",
    "version": 3
   },
   "file_extension": ".py",
   "mimetype": "text/x-python",
   "name": "python",
   "nbconvert_exporter": "python",
   "pygments_lexer": "ipython3",
   "version": "3.7.4"
  }
 },
 "nbformat": 4,
 "nbformat_minor": 2
}
